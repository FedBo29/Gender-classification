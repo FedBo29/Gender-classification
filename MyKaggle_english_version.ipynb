{
 "cells": [
  {
   "cell_type": "markdown",
   "id": "e32df25d",
   "metadata": {},
   "source": [
    "## University of Turin, September 2022\n",
    "## Data Mining, Statistical Modeling and Machine Learning\n",
    "# Bonaldo Federico n matricola 853475 "
   ]
  },
  {
   "cell_type": "markdown",
   "id": "6bf8eedc",
   "metadata": {},
   "source": [
    "Reddit is an entertainment, social networking, and news website where registered community members can submit content, such as text posts or direct links, making it essentially an online bulletin board system. Registered users can then vote submissions up or down to organize the posts and determine their position on the site's pages. Content entries are organized by areas of interest called \"subreddits\". The subreddit topics include news, gaming, movies, music, books, fitness, food, and photosharing, among many others.\n",
    "\n",
    "The scope of this competition is represent the **gender** of the users as binary classes: the class \"**female**\" is represented as **1** and the class \"**male**\" as **0**. The class prediction for each Reddit author corresponds to your confidence that the author is a female, which is a \"score\" computed for the author."
   ]
  },
  {
   "cell_type": "code",
   "execution_count": 2,
   "id": "571a26e9",
   "metadata": {
    "_uuid": "a801cefd9a17a7f619eec88a81aae34f14b97156",
    "execution": {
     "iopub.execute_input": "2022-06-17T09:23:59.761663Z",
     "iopub.status.busy": "2022-06-17T09:23:59.757823Z",
     "iopub.status.idle": "2022-06-17T09:23:59.768715Z",
     "shell.execute_reply": "2022-06-17T09:23:59.769165Z",
     "shell.execute_reply.started": "2022-06-17T09:13:43.646892Z"
    },
    "papermill": {
     "duration": 0.037552,
     "end_time": "2022-06-17T09:23:59.769415",
     "exception": false,
     "start_time": "2022-06-17T09:23:59.731863",
     "status": "completed"
    },
    "tags": []
   },
   "outputs": [
    {
     "name": "stdout",
     "output_type": "stream",
     "text": [
      "Populating the interactive namespace from numpy and matplotlib\n"
     ]
    }
   ],
   "source": [
    "%pylab inline\n",
    "import pandas as pd"
   ]
  },
  {
   "cell_type": "markdown",
   "id": "a35bd55f",
   "metadata": {
    "_uuid": "7bb9aeff202a934258f69ac6ad278b9c5c4d739c",
    "papermill": {
     "duration": 0.020655,
     "end_time": "2022-06-17T09:23:59.811542",
     "exception": false,
     "start_time": "2022-06-17T09:23:59.790887",
     "status": "completed"
    },
    "tags": []
   },
   "source": [
    "# Load the train data"
   ]
  },
  {
   "cell_type": "code",
   "execution_count": 2,
   "id": "9cbed79b",
   "metadata": {
    "_uuid": "03006e40a92e2e374a494f4abb15d2fefe56d3ff",
    "execution": {
     "iopub.execute_input": "2022-06-17T09:23:59.858949Z",
     "iopub.status.busy": "2022-06-17T09:23:59.858309Z",
     "iopub.status.idle": "2022-06-17T09:24:01.613911Z",
     "shell.execute_reply": "2022-06-17T09:24:01.613361Z",
     "shell.execute_reply.started": "2022-06-17T09:13:45.830528Z"
    },
    "papermill": {
     "duration": 1.781337,
     "end_time": "2022-06-17T09:24:01.614066",
     "exception": false,
     "start_time": "2022-06-17T09:23:59.832729",
     "status": "completed"
    },
    "tags": []
   },
   "outputs": [],
   "source": [
    "train_data = pd.read_csv(\"train_data.csv\", encoding=\"utf8\")"
   ]
  },
  {
   "cell_type": "code",
   "execution_count": 3,
   "id": "6ee35315",
   "metadata": {
    "_uuid": "2600899a23b92befec4ec078402e9c44a65b9897",
    "execution": {
     "iopub.execute_input": "2022-06-17T09:24:01.661665Z",
     "iopub.status.busy": "2022-06-17T09:24:01.661106Z",
     "iopub.status.idle": "2022-06-17T09:24:01.678053Z",
     "shell.execute_reply": "2022-06-17T09:24:01.678487Z",
     "shell.execute_reply.started": "2022-06-17T09:13:48.672809Z"
    },
    "papermill": {
     "duration": 0.041823,
     "end_time": "2022-06-17T09:24:01.678644",
     "exception": false,
     "start_time": "2022-06-17T09:24:01.636821",
     "status": "completed"
    },
    "tags": []
   },
   "outputs": [
    {
     "data": {
      "text/html": [
       "<div>\n",
       "<style scoped>\n",
       "    .dataframe tbody tr th:only-of-type {\n",
       "        vertical-align: middle;\n",
       "    }\n",
       "\n",
       "    .dataframe tbody tr th {\n",
       "        vertical-align: top;\n",
       "    }\n",
       "\n",
       "    .dataframe thead th {\n",
       "        text-align: right;\n",
       "    }\n",
       "</style>\n",
       "<table border=\"1\" class=\"dataframe\">\n",
       "  <thead>\n",
       "    <tr style=\"text-align: right;\">\n",
       "      <th></th>\n",
       "      <th>author</th>\n",
       "      <th>subreddit</th>\n",
       "      <th>created_utc</th>\n",
       "      <th>body</th>\n",
       "    </tr>\n",
       "  </thead>\n",
       "  <tbody>\n",
       "    <tr>\n",
       "      <th>0</th>\n",
       "      <td>Shamus_Aran</td>\n",
       "      <td>mylittlepony</td>\n",
       "      <td>1.388534e+09</td>\n",
       "      <td>I don't think we'd get nearly as much fanficti...</td>\n",
       "    </tr>\n",
       "    <tr>\n",
       "      <th>1</th>\n",
       "      <td>Riddance</td>\n",
       "      <td>sex</td>\n",
       "      <td>1.388534e+09</td>\n",
       "      <td>Thanks. I made it up, that's how I got over my...</td>\n",
       "    </tr>\n",
       "    <tr>\n",
       "      <th>2</th>\n",
       "      <td>Secret_Wizard</td>\n",
       "      <td>DragonsDogma</td>\n",
       "      <td>1.388534e+09</td>\n",
       "      <td>Are you sure you aren't confusing Cyclops (the...</td>\n",
       "    </tr>\n",
       "    <tr>\n",
       "      <th>3</th>\n",
       "      <td>Penultimatum</td>\n",
       "      <td>malefashionadvice</td>\n",
       "      <td>1.388534e+09</td>\n",
       "      <td>dont do this to me bro</td>\n",
       "    </tr>\n",
       "    <tr>\n",
       "      <th>4</th>\n",
       "      <td>7-SE7EN-7</td>\n",
       "      <td>todayilearned</td>\n",
       "      <td>1.388534e+09</td>\n",
       "      <td>That's what we do when we can't find a mate</td>\n",
       "    </tr>\n",
       "  </tbody>\n",
       "</table>\n",
       "</div>"
      ],
      "text/plain": [
       "          author          subreddit   created_utc  \\\n",
       "0    Shamus_Aran       mylittlepony  1.388534e+09   \n",
       "1       Riddance                sex  1.388534e+09   \n",
       "2  Secret_Wizard       DragonsDogma  1.388534e+09   \n",
       "3   Penultimatum  malefashionadvice  1.388534e+09   \n",
       "4      7-SE7EN-7      todayilearned  1.388534e+09   \n",
       "\n",
       "                                                body  \n",
       "0  I don't think we'd get nearly as much fanficti...  \n",
       "1  Thanks. I made it up, that's how I got over my...  \n",
       "2  Are you sure you aren't confusing Cyclops (the...  \n",
       "3                             dont do this to me bro  \n",
       "4        That's what we do when we can't find a mate  "
      ]
     },
     "execution_count": 3,
     "metadata": {},
     "output_type": "execute_result"
    }
   ],
   "source": [
    "train_data.head()"
   ]
  },
  {
   "cell_type": "code",
   "execution_count": 4,
   "id": "51c34222",
   "metadata": {
    "_uuid": "cf29c3c9b927020503dfb6e41d92f9e380915834",
    "execution": {
     "iopub.execute_input": "2022-06-17T09:24:01.733806Z",
     "iopub.status.busy": "2022-06-17T09:24:01.723971Z",
     "iopub.status.idle": "2022-06-17T09:24:01.759005Z",
     "shell.execute_reply": "2022-06-17T09:24:01.759470Z",
     "shell.execute_reply.started": "2022-06-17T09:13:49.720270Z"
    },
    "papermill": {
     "duration": 0.059476,
     "end_time": "2022-06-17T09:24:01.759629",
     "exception": false,
     "start_time": "2022-06-17T09:24:01.700153",
     "status": "completed"
    },
    "tags": []
   },
   "outputs": [
    {
     "data": {
      "text/plain": [
       "(5000,)"
      ]
     },
     "execution_count": 4,
     "metadata": {},
     "output_type": "execute_result"
    }
   ],
   "source": [
    "train_data.author.unique().shape"
   ]
  },
  {
   "cell_type": "code",
   "execution_count": 5,
   "id": "46e6968f",
   "metadata": {
    "_uuid": "a5bbaa115e83a571c86fcd07277118f0c729a514",
    "execution": {
     "iopub.execute_input": "2022-06-17T09:24:01.806411Z",
     "iopub.status.busy": "2022-06-17T09:24:01.805793Z",
     "iopub.status.idle": "2022-06-17T09:24:01.817629Z",
     "shell.execute_reply": "2022-06-17T09:24:01.818138Z",
     "shell.execute_reply.started": "2022-06-17T09:13:51.569011Z"
    },
    "papermill": {
     "duration": 0.036818,
     "end_time": "2022-06-17T09:24:01.818308",
     "exception": false,
     "start_time": "2022-06-17T09:24:01.781490",
     "status": "completed"
    },
    "tags": []
   },
   "outputs": [],
   "source": [
    "target = pd.read_csv(\"train_target.csv\")"
   ]
  },
  {
   "cell_type": "code",
   "execution_count": 6,
   "id": "f865b548",
   "metadata": {
    "_uuid": "6aaa81e4507ae61b34c381fd203e18f34ccfccd7",
    "execution": {
     "iopub.execute_input": "2022-06-17T09:24:01.866514Z",
     "iopub.status.busy": "2022-06-17T09:24:01.865939Z",
     "iopub.status.idle": "2022-06-17T09:24:01.872625Z",
     "shell.execute_reply": "2022-06-17T09:24:01.873102Z",
     "shell.execute_reply.started": "2022-06-17T09:13:52.248795Z"
    },
    "papermill": {
     "duration": 0.031524,
     "end_time": "2022-06-17T09:24:01.873255",
     "exception": false,
     "start_time": "2022-06-17T09:24:01.841731",
     "status": "completed"
    },
    "tags": []
   },
   "outputs": [
    {
     "data": {
      "text/html": [
       "<div>\n",
       "<style scoped>\n",
       "    .dataframe tbody tr th:only-of-type {\n",
       "        vertical-align: middle;\n",
       "    }\n",
       "\n",
       "    .dataframe tbody tr th {\n",
       "        vertical-align: top;\n",
       "    }\n",
       "\n",
       "    .dataframe thead th {\n",
       "        text-align: right;\n",
       "    }\n",
       "</style>\n",
       "<table border=\"1\" class=\"dataframe\">\n",
       "  <thead>\n",
       "    <tr style=\"text-align: right;\">\n",
       "      <th></th>\n",
       "      <th>author</th>\n",
       "      <th>gender</th>\n",
       "    </tr>\n",
       "  </thead>\n",
       "  <tbody>\n",
       "    <tr>\n",
       "      <th>0</th>\n",
       "      <td>RedThunder90</td>\n",
       "      <td>0</td>\n",
       "    </tr>\n",
       "    <tr>\n",
       "      <th>1</th>\n",
       "      <td>Lirkmor</td>\n",
       "      <td>1</td>\n",
       "    </tr>\n",
       "    <tr>\n",
       "      <th>2</th>\n",
       "      <td>In0chi</td>\n",
       "      <td>0</td>\n",
       "    </tr>\n",
       "    <tr>\n",
       "      <th>3</th>\n",
       "      <td>ProjectGrudge</td>\n",
       "      <td>0</td>\n",
       "    </tr>\n",
       "    <tr>\n",
       "      <th>4</th>\n",
       "      <td>TehTurtleHermit</td>\n",
       "      <td>0</td>\n",
       "    </tr>\n",
       "  </tbody>\n",
       "</table>\n",
       "</div>"
      ],
      "text/plain": [
       "            author  gender\n",
       "0     RedThunder90       0\n",
       "1          Lirkmor       1\n",
       "2           In0chi       0\n",
       "3    ProjectGrudge       0\n",
       "4  TehTurtleHermit       0"
      ]
     },
     "execution_count": 6,
     "metadata": {},
     "output_type": "execute_result"
    }
   ],
   "source": [
    "target.head()"
   ]
  },
  {
   "cell_type": "markdown",
   "id": "2f0adaff",
   "metadata": {
    "_uuid": "787021ec7da4ec1a1b2296c1bc67d8b64f278d43",
    "papermill": {
     "duration": 0.022471,
     "end_time": "2022-06-17T09:24:01.918350",
     "exception": false,
     "start_time": "2022-06-17T09:24:01.895879",
     "status": "completed"
    },
    "tags": []
   },
   "source": [
    "# Feature Extraction"
   ]
  },
  {
   "cell_type": "code",
   "execution_count": 7,
   "id": "15723f2a",
   "metadata": {
    "_uuid": "4ae83bc0a51e4edcda8903dda7b1ea9971bd8dbc",
    "execution": {
     "iopub.execute_input": "2022-06-17T09:24:01.967098Z",
     "iopub.status.busy": "2022-06-17T09:24:01.966184Z",
     "iopub.status.idle": "2022-06-17T09:24:01.993719Z",
     "shell.execute_reply": "2022-06-17T09:24:01.994239Z",
     "shell.execute_reply.started": "2022-06-17T09:13:53.390957Z"
    },
    "papermill": {
     "duration": 0.053505,
     "end_time": "2022-06-17T09:24:01.994411",
     "exception": false,
     "start_time": "2022-06-17T09:24:01.940906",
     "status": "completed"
    },
    "tags": []
   },
   "outputs": [],
   "source": [
    "subreddits = train_data.subreddit.unique()\n",
    "subreddits_map = pd.Series(index=subreddits, data=arange(subreddits.shape[0]))"
   ]
  },
  {
   "cell_type": "code",
   "execution_count": 8,
   "id": "7da3feb8",
   "metadata": {
    "_uuid": "fda9ea28517401139a62d9d3c08514a689abb248",
    "execution": {
     "iopub.execute_input": "2022-06-17T09:24:02.043338Z",
     "iopub.status.busy": "2022-06-17T09:24:02.042439Z",
     "iopub.status.idle": "2022-06-17T09:24:02.116353Z",
     "shell.execute_reply": "2022-06-17T09:24:02.115792Z",
     "shell.execute_reply.started": "2022-06-17T09:13:53.965716Z"
    },
    "papermill": {
     "duration": 0.099453,
     "end_time": "2022-06-17T09:24:02.116496",
     "exception": false,
     "start_time": "2022-06-17T09:24:02.017043",
     "status": "completed"
    },
    "tags": []
   },
   "outputs": [],
   "source": [
    "from scipy import sparse"
   ]
  },
  {
   "cell_type": "code",
   "execution_count": 9,
   "id": "dbd7fa70",
   "metadata": {
    "_uuid": "fe7ee5926b14f2e1a338f9e7a8cd4d13d87b13b7",
    "execution": {
     "iopub.execute_input": "2022-06-17T09:24:02.165054Z",
     "iopub.status.busy": "2022-06-17T09:24:02.164136Z",
     "iopub.status.idle": "2022-06-17T09:24:02.198364Z",
     "shell.execute_reply": "2022-06-17T09:24:02.197920Z",
     "shell.execute_reply.started": "2022-06-17T09:14:05.964360Z"
    },
    "papermill": {
     "duration": 0.059643,
     "end_time": "2022-06-17T09:24:02.198498",
     "exception": false,
     "start_time": "2022-06-17T09:24:02.138855",
     "status": "completed"
    },
    "tags": []
   },
   "outputs": [
    {
     "data": {
      "text/plain": [
       "<1x3468 sparse matrix of type '<class 'numpy.float64'>'\n",
       "\twith 1 stored elements in Compressed Sparse Row format>"
      ]
     },
     "execution_count": 9,
     "metadata": {},
     "output_type": "execute_result"
    }
   ],
   "source": [
    "def extract_features(group):\n",
    "    group_subreddits = group['subreddit']\n",
    "    group_subreddits = group_subreddits[group_subreddits.isin(subreddits_map.index)].values\n",
    "    idxs = subreddits_map.loc[group_subreddits].values\n",
    "    v = sparse.dok_matrix((1, subreddits.shape[0]))\n",
    "    for idx in idxs:\n",
    "        if not np.isnan(idx):\n",
    "            v[0, idx] = 1\n",
    "    return v.tocsr()\n",
    "\n",
    "extract_features(train_data[train_data.author=='RedThunder90'])"
   ]
  },
  {
   "cell_type": "code",
   "execution_count": 10,
   "id": "9f8eadb7",
   "metadata": {
    "_uuid": "21a80468d90131f8021f446dcbcbc8848cdee0aa",
    "execution": {
     "iopub.execute_input": "2022-06-17T09:24:02.253065Z",
     "iopub.status.busy": "2022-06-17T09:24:02.252470Z",
     "iopub.status.idle": "2022-06-17T09:24:13.516892Z",
     "shell.execute_reply": "2022-06-17T09:24:13.516368Z",
     "shell.execute_reply.started": "2022-06-17T09:14:08.237752Z"
    },
    "papermill": {
     "duration": 11.296134,
     "end_time": "2022-06-17T09:24:13.517028",
     "exception": false,
     "start_time": "2022-06-17T09:24:02.220894",
     "status": "completed"
    },
    "tags": []
   },
   "outputs": [],
   "source": [
    "features_dict = {}\n",
    "\n",
    "for author, group in train_data.groupby('author'):\n",
    "    features_dict[author] = extract_features(group)"
   ]
  },
  {
   "cell_type": "code",
   "execution_count": 11,
   "id": "d0d3155e",
   "metadata": {
    "_uuid": "d15816cd5bc076582b769255b697abd8e028cf43",
    "execution": {
     "iopub.execute_input": "2022-06-17T09:24:13.592954Z",
     "iopub.status.busy": "2022-06-17T09:24:13.592317Z",
     "iopub.status.idle": "2022-06-17T09:24:13.639289Z",
     "shell.execute_reply": "2022-06-17T09:24:13.638733Z",
     "shell.execute_reply.started": "2022-06-17T09:14:23.059334Z"
    },
    "papermill": {
     "duration": 0.099166,
     "end_time": "2022-06-17T09:24:13.639428",
     "exception": false,
     "start_time": "2022-06-17T09:24:13.540262",
     "status": "completed"
    },
    "tags": []
   },
   "outputs": [
    {
     "data": {
      "text/plain": [
       "<5000x3468 sparse matrix of type '<class 'numpy.float64'>'\n",
       "\twith 49152 stored elements in Compressed Sparse Row format>"
      ]
     },
     "execution_count": 11,
     "metadata": {},
     "output_type": "execute_result"
    }
   ],
   "source": [
    "X = sparse.vstack([features_dict[author] for author in target.author])\n",
    "X"
   ]
  },
  {
   "cell_type": "code",
   "execution_count": 12,
   "id": "689b5d0a",
   "metadata": {
    "_uuid": "dc9a85e3dcfab4f35601517fd7076d7f198fb686",
    "execution": {
     "iopub.execute_input": "2022-06-17T09:24:13.687720Z",
     "iopub.status.busy": "2022-06-17T09:24:13.687116Z",
     "iopub.status.idle": "2022-06-17T09:24:13.690052Z",
     "shell.execute_reply": "2022-06-17T09:24:13.690492Z",
     "shell.execute_reply.started": "2022-06-17T09:14:23.846306Z"
    },
    "papermill": {
     "duration": 0.028513,
     "end_time": "2022-06-17T09:24:13.690640",
     "exception": false,
     "start_time": "2022-06-17T09:24:13.662127",
     "status": "completed"
    },
    "tags": []
   },
   "outputs": [],
   "source": [
    "y = target.gender"
   ]
  },
  {
   "cell_type": "code",
   "execution_count": 13,
   "id": "4016444f",
   "metadata": {
    "_uuid": "066e0e0632075a067ff46ce7eb8895c6f1a1caa9",
    "execution": {
     "iopub.execute_input": "2022-06-17T09:24:13.758894Z",
     "iopub.status.busy": "2022-06-17T09:24:13.758285Z",
     "iopub.status.idle": "2022-06-17T09:24:13.763222Z",
     "shell.execute_reply": "2022-06-17T09:24:13.763595Z",
     "shell.execute_reply.started": "2022-06-17T09:16:45.874830Z"
    },
    "papermill": {
     "duration": 0.05061,
     "end_time": "2022-06-17T09:24:13.763767",
     "exception": false,
     "start_time": "2022-06-17T09:24:13.713157",
     "status": "completed"
    },
    "tags": []
   },
   "outputs": [
    {
     "data": {
      "text/plain": [
       "'I still prefer to buy foods either grown locally or where animals are treated better, but this definitely has me looking at organic food differently.'"
      ]
     },
     "execution_count": 13,
     "metadata": {},
     "output_type": "execute_result"
    }
   ],
   "source": [
    "def extract_text(group):\n",
    "    group_text = group['body'].astype(str).values\n",
    "    return \" \".join(group_text)\n",
    "\n",
    "extract_text(train_data[train_data.author=='RedThunder90'])"
   ]
  },
  {
   "cell_type": "code",
   "execution_count": 14,
   "id": "df7e4903",
   "metadata": {
    "_uuid": "96f1df44460515daab04a0c8a6a47ca5ba7eb171",
    "execution": {
     "iopub.execute_input": "2022-06-17T09:24:13.827090Z",
     "iopub.status.busy": "2022-06-17T09:24:13.818941Z",
     "iopub.status.idle": "2022-06-17T09:24:14.839060Z",
     "shell.execute_reply": "2022-06-17T09:24:14.838498Z",
     "shell.execute_reply.started": "2022-06-17T09:14:24.914305Z"
    },
    "papermill": {
     "duration": 1.05224,
     "end_time": "2022-06-17T09:24:14.839202",
     "exception": false,
     "start_time": "2022-06-17T09:24:13.786962",
     "status": "completed"
    },
    "tags": []
   },
   "outputs": [],
   "source": [
    "text_dict = {}\n",
    "\n",
    "for author, group in train_data.groupby('author'):\n",
    "    text_dict[author] = extract_text(group)"
   ]
  },
  {
   "cell_type": "code",
   "execution_count": 15,
   "id": "b5e40825",
   "metadata": {
    "_uuid": "f9b126773b52e11764ca4dd1ecd23eb3999c8d8e",
    "execution": {
     "iopub.execute_input": "2022-06-17T09:24:14.893329Z",
     "iopub.status.busy": "2022-06-17T09:24:14.892727Z",
     "iopub.status.idle": "2022-06-17T09:24:14.895189Z",
     "shell.execute_reply": "2022-06-17T09:24:14.895711Z",
     "shell.execute_reply.started": "2022-06-17T09:14:27.023876Z"
    },
    "papermill": {
     "duration": 0.032512,
     "end_time": "2022-06-17T09:24:14.895878",
     "exception": false,
     "start_time": "2022-06-17T09:24:14.863366",
     "status": "completed"
    },
    "tags": []
   },
   "outputs": [
    {
     "data": {
      "text/plain": [
       "'I still prefer to buy foods either grown locally or where animals are treated better, but this defin'"
      ]
     },
     "execution_count": 15,
     "metadata": {},
     "output_type": "execute_result"
    }
   ],
   "source": [
    "author_text = [text_dict[author] for author in target.author]\n",
    "author_text[0][:100]"
   ]
  },
  {
   "cell_type": "markdown",
   "id": "34bcf33d",
   "metadata": {},
   "source": [
    "Data preparation:\n",
    "at this step I split the dataset in several collections using the function train_test_split. This is useful because I can use some data as train and the rest as test from the starting dataset.\n",
    "\n",
    "Then, I convert with term frequency inverse document frequency the text messages from Users by Reddit in matrix."
   ]
  },
  {
   "cell_type": "code",
   "execution_count": 16,
   "id": "68218a50",
   "metadata": {},
   "outputs": [],
   "source": [
    "from sklearn.feature_extraction.text import TfidfTransformer, TfidfVectorizer, ENGLISH_STOP_WORDS\n",
    "from sklearn.model_selection import train_test_split\n",
    "\n",
    "pattern ='(?u)\\\\b[A-Za-z]{3,}'\n",
    "tfidfv = TfidfVectorizer(token_pattern=pattern, stop_words=ENGLISH_STOP_WORDS, ngram_range=(1,1),max_features=20000)\n",
    "\n",
    "X_train, X_test, y_train, y_test, author_text_train ,author_text_test = train_test_split(X, y,author_text, test_size = 0.1)\n",
    "\n",
    "author_text_train = tfidfv.fit_transform(author_text_train)\n",
    "author_text_test= tfidfv.transform(author_text_test)"
   ]
  },
  {
   "cell_type": "code",
   "execution_count": 17,
   "id": "95493495",
   "metadata": {},
   "outputs": [],
   "source": [
    "X_train_FULL= sparse.hstack( (X_train,author_text_train ))\n",
    "X_test_FULL= sparse.hstack( ( X_test, author_text_test ))"
   ]
  },
  {
   "cell_type": "markdown",
   "id": "f6751df3",
   "metadata": {
    "_uuid": "3068ae67a9ac5c4d74a69343fee81ba1ebaf6ee5",
    "papermill": {
     "duration": 0.023083,
     "end_time": "2022-06-17T09:24:14.942176",
     "exception": false,
     "start_time": "2022-06-17T09:24:14.919093",
     "status": "completed"
    },
    "tags": []
   },
   "source": [
    "------------------------------------------------------------------------\n",
    "\n",
    "# Model Selection:"
   ]
  },
  {
   "cell_type": "markdown",
   "id": "d1e296f1",
   "metadata": {
    "_uuid": "1bf7ebc57de0675737809d580ab996b8e34ac78d",
    "execution": {
     "iopub.execute_input": "2022-06-17T09:24:14.995322Z",
     "iopub.status.busy": "2022-06-17T09:24:14.994731Z",
     "iopub.status.idle": "2022-06-17T09:24:14.997673Z",
     "shell.execute_reply": "2022-06-17T09:24:14.997226Z",
     "shell.execute_reply.started": "2022-06-17T09:14:29.600505Z"
    },
    "papermill": {
     "duration": 0.031074,
     "end_time": "2022-06-17T09:24:14.997852",
     "exception": false,
     "start_time": "2022-06-17T09:24:14.966778",
     "status": "completed"
    },
    "tags": []
   },
   "source": [
    "## Multinomial Naive Bayes"
   ]
  },
  {
   "cell_type": "markdown",
   "id": "21e76308",
   "metadata": {},
   "source": [
    "**Testing the sub-reddit.**\n",
    "\n",
    "We use now subreddit as training data. I'll use cross validation as resampling method and I'll test it for different **alpha value**, an hyperparameter used inside the Multinomial Naive Bayes model "
   ]
  },
  {
   "cell_type": "code",
   "execution_count": 18,
   "id": "e4d8055d",
   "metadata": {},
   "outputs": [],
   "source": [
    "from sklearn.naive_bayes import MultinomialNB\n",
    "clf = MultinomialNB(class_prior=[0.7,0.3])"
   ]
  },
  {
   "cell_type": "code",
   "execution_count": 19,
   "id": "f2bd022a",
   "metadata": {},
   "outputs": [],
   "source": [
    "alphas = np.logspace(-2, 2, 150)\n",
    "alphas;"
   ]
  },
  {
   "cell_type": "code",
   "execution_count": 20,
   "id": "5a09a224",
   "metadata": {},
   "outputs": [],
   "source": [
    "from sklearn import model_selection\n",
    "from sklearn import metrics\n",
    "\n",
    "scores=[]\n",
    "training_score=[]\n",
    "for alpha in alphas:\n",
    "    clf.alpha = alpha\n",
    "    clf.fit( X_train, y_train)\n",
    "    training_score.append( clf.score( X_train, y_train ))\n",
    "    s = model_selection.cross_val_score(clf, X_train, \n",
    "                                        y_train, cv=10)\n",
    "    scores.append(s.mean())   "
   ]
  },
  {
   "cell_type": "code",
   "execution_count": 21,
   "id": "48baee41",
   "metadata": {},
   "outputs": [
    {
     "data": {
      "text/plain": [
       "<matplotlib.legend.Legend at 0x1bb597b34c0>"
      ]
     },
     "execution_count": 21,
     "metadata": {},
     "output_type": "execute_result"
    },
    {
     "data": {
      "image/png": "[encoded data removed]",
      "text/plain": [
       "<Figure size 432x288 with 1 Axes>"
      ]
     },
     "metadata": {
      "needs_background": "light"
     },
     "output_type": "display_data"
    }
   ],
   "source": [
    "plt.plot( alphas, training_score, label='training score ')\n",
    "plt.plot( alphas, scores, label= 'cross validation score ')\n",
    "plt.xlabel('alphas')\n",
    "plt.ylabel('accuracy')\n",
    "plt.xscale('log')\n",
    "plt.legend(loc='best')"
   ]
  },
  {
   "cell_type": "markdown",
   "id": "cd574aca",
   "metadata": {},
   "source": [
    "In these two lines we can see the training score. It means the **In-sample-Error**. Cross validations is used for estimate the **Out-of-sample-Error**. \n",
    "Everything was calculated in a loop while alpha parameted was changing.\n",
    "\n",
    "After that, I selected the **alpha** with the highest score and I'll test the model with test data."
   ]
  },
  {
   "cell_type": "code",
   "execution_count": 22,
   "id": "8a8c615e",
   "metadata": {},
   "outputs": [
    {
     "name": "stdout",
     "output_type": "stream",
     "text": [
      "best alpha is  1.404918096835459\n",
      "best score is 0.8593333333333334\n"
     ]
    }
   ],
   "source": [
    "best_alpha = alphas[np.argmax(scores)]\n",
    "print('best alpha is ', best_alpha )\n",
    "print( 'best score is' , max(scores) ) "
   ]
  },
  {
   "cell_type": "code",
   "execution_count": 23,
   "id": "1c89cf33",
   "metadata": {},
   "outputs": [
    {
     "name": "stdout",
     "output_type": "stream",
     "text": [
      "SCORE SUB-REDS 0.848\n"
     ]
    }
   ],
   "source": [
    "clf= MultinomialNB( alpha=best_alpha, class_prior=[0.7,0.3])\n",
    "clf.fit( X_train, y_train)\n",
    "score= clf.score( X_test, y_test)\n",
    "print('SCORE SUB-REDS', score)"
   ]
  },
  {
   "cell_type": "markdown",
   "id": "66aef99e",
   "metadata": {},
   "source": [
    "**Testing the text.**"
   ]
  },
  {
   "cell_type": "markdown",
   "id": "412d1713",
   "metadata": {},
   "source": [
    "\n",
    "With an analogue proceed I'm using the text data to train the model during the TRAINING PHASE.\n",
    "Then, I'll select the alpha with the most-likely generalization of the training data and I'll use it in the TEST PHASE. \n"
   ]
  },
  {
   "cell_type": "code",
   "execution_count": 24,
   "id": "96a5a1d5",
   "metadata": {},
   "outputs": [],
   "source": [
    "clf = MultinomialNB(class_prior=[0.7,0.3])\n",
    "alphas= np.logspace(-2.5, 0.5, 100)\n",
    "alphas;"
   ]
  },
  {
   "cell_type": "code",
   "execution_count": 25,
   "id": "9bb6e5fd",
   "metadata": {},
   "outputs": [],
   "source": [
    "scores = []\n",
    "training_score=[]\n",
    "for alpha in alphas:\n",
    "    clf.alpha = alpha\n",
    "    clf.fit(author_text_train, y_train)\n",
    "    training_score.append( clf.score( author_text_train, y_train ))\n",
    "    s = model_selection.cross_val_score(clf, author_text_train, \n",
    "                                        y_train, cv=10)\n",
    "    scores.append(s.mean())"
   ]
  },
  {
   "cell_type": "code",
   "execution_count": 26,
   "id": "45b8a818",
   "metadata": {},
   "outputs": [
    {
     "data": {
      "text/plain": [
       "<matplotlib.legend.Legend at 0x1bb5fe5e820>"
      ]
     },
     "execution_count": 26,
     "metadata": {},
     "output_type": "execute_result"
    },
    {
     "data": {
      "image/png": "[encoded data removed]",
      "text/plain": [
       "<Figure size 432x288 with 1 Axes>"
      ]
     },
     "metadata": {
      "needs_background": "light"
     },
     "output_type": "display_data"
    }
   ],
   "source": [
    "plt.plot( alphas, training_score, label='training score ')\n",
    "plt.plot( alphas, scores, label= 'cross validation score ')\n",
    "plt.xlabel('alphas')\n",
    "plt.ylabel('accuracy')\n",
    "plt.xscale('log')\n",
    "plt.legend(loc='best')"
   ]
  },
  {
   "cell_type": "markdown",
   "id": "2c40af20",
   "metadata": {},
   "source": [
    "Cross validation rappresents a good estimatior of the **Out-of-sample-error**"
   ]
  },
  {
   "cell_type": "code",
   "execution_count": 27,
   "id": "4ae58f3e",
   "metadata": {},
   "outputs": [
    {
     "name": "stdout",
     "output_type": "stream",
     "text": [
      "best alpha is  0.09657139052966049\n",
      "best score is 0.836888888888889\n"
     ]
    }
   ],
   "source": [
    "best_alpha = alphas[np.argmax(scores)]\n",
    "print('best alpha is ', best_alpha )\n",
    "print( 'best score is' , max(scores) ) "
   ]
  },
  {
   "cell_type": "code",
   "execution_count": 28,
   "id": "9398ce3d",
   "metadata": {},
   "outputs": [
    {
     "name": "stdout",
     "output_type": "stream",
     "text": [
      "SCORE SUB-REDS 0.826\n"
     ]
    }
   ],
   "source": [
    "clf= MultinomialNB( alpha=best_alpha, class_prior=[0.7,0.3])\n",
    "clf.fit( author_text_train , y_train)\n",
    "score= clf.score( author_text_test, y_test)\n",
    "print('SCORE SUB-REDS', score)"
   ]
  },
  {
   "cell_type": "markdown",
   "id": "b8c85453",
   "metadata": {},
   "source": [
    "**Testing text+ subreddits.**\n",
    "\n",
    "In this phase I'm putting together the data. I'm studying the entire dataset with text and subreddit together."
   ]
  },
  {
   "cell_type": "code",
   "execution_count": 29,
   "id": "911a4e03",
   "metadata": {},
   "outputs": [],
   "source": [
    "clf= MultinomialNB( class_prior=[0.7,0.3] )\n",
    "scores = []\n",
    "training_score=[]\n",
    "alphas= np.logspace( -2, 1.0, 150)\n",
    "alphas;"
   ]
  },
  {
   "cell_type": "code",
   "execution_count": 30,
   "id": "6401ce57",
   "metadata": {},
   "outputs": [],
   "source": [
    "for alpha in alphas:\n",
    "    clf.alpha = alpha\n",
    "    clf.fit( X_train_FULL, y_train)\n",
    "    training_score.append( clf.score( X_train_FULL, y_train ))\n",
    "    s = model_selection.cross_val_score(clf, X_train_FULL, \n",
    "                                        y_train, cv=10)\n",
    "    scores.append(s.mean())"
   ]
  },
  {
   "cell_type": "code",
   "execution_count": 31,
   "id": "01aa2f12",
   "metadata": {},
   "outputs": [
    {
     "data": {
      "text/plain": [
       "<matplotlib.legend.Legend at 0x1bb5fda4070>"
      ]
     },
     "execution_count": 31,
     "metadata": {},
     "output_type": "execute_result"
    },
    {
     "data": {
      "image/png": "[encoded data removed]",
      "text/plain": [
       "<Figure size 432x288 with 1 Axes>"
      ]
     },
     "metadata": {
      "needs_background": "light"
     },
     "output_type": "display_data"
    }
   ],
   "source": [
    "plt.plot( alphas, training_score, label='training score ')\n",
    "plt.plot( alphas, scores, label= 'cross validation score ')\n",
    "plt.xlabel('alphas')\n",
    "plt.ylabel('accuracy')\n",
    "plt.xscale('log')\n",
    "plt.legend(loc='best')"
   ]
  },
  {
   "cell_type": "code",
   "execution_count": 32,
   "id": "6d046faf",
   "metadata": {},
   "outputs": [
    {
     "name": "stdout",
     "output_type": "stream",
     "text": [
      "best alpha is  0.6193644990970611\n",
      "best score is 0.8695555555555554\n"
     ]
    }
   ],
   "source": [
    "best_alpha = alphas[np.argmax(scores)]\n",
    "print('best alpha is ', best_alpha )\n",
    "print( 'best score is' , max(scores) ) "
   ]
  },
  {
   "cell_type": "code",
   "execution_count": 33,
   "id": "510c12d0",
   "metadata": {},
   "outputs": [
    {
     "name": "stdout",
     "output_type": "stream",
     "text": [
      "SCORE SUB-REDS 0.864\n"
     ]
    }
   ],
   "source": [
    "clf= MultinomialNB( alpha=best_alpha, class_prior=[0.7,0.3])\n",
    "clf.fit( X_train_FULL, y_train)\n",
    "score= clf.score( X_test_FULL, y_test)\n",
    "print('SCORE SUB-REDS', score)"
   ]
  },
  {
   "cell_type": "markdown",
   "id": "9086e332",
   "metadata": {},
   "source": [
    "Putting together text and subreddits end into a little improvement in the generalization of the model.\n",
    "\n",
    "---------------------------------------------------------"
   ]
  },
  {
   "cell_type": "markdown",
   "id": "25e56406",
   "metadata": {},
   "source": [
    "## Model selection: Multi Layer Perceptron\n",
    "**Testing the sub-reddit** \n",
    "\n",
    "In this section I'm using Multi Layer Perceptron to analyse subreddit data."
   ]
  },
  {
   "cell_type": "code",
   "execution_count": 1,
   "id": "9555a08b",
   "metadata": {},
   "outputs": [],
   "source": [
    "from sklearn.neural_network import MLPClassifier"
   ]
  },
  {
   "cell_type": "code",
   "execution_count": 35,
   "id": "8026acc8",
   "metadata": {},
   "outputs": [
    {
     "name": "stdout",
     "output_type": "stream",
     "text": [
      "Multilayer Perceptron, SUB-REDS  0.818\n"
     ]
    }
   ],
   "source": [
    "clf=MLPClassifier(max_iter=1500)\n",
    "clf.fit( X_train, y_train )\n",
    "score= clf.score( X_test, y_test)\n",
    "print(\"Multilayer Perceptron, SUB-REDS \", score)"
   ]
  },
  {
   "cell_type": "code",
   "execution_count": 2,
   "id": "9792e50d",
   "metadata": {},
   "outputs": [],
   "source": [
    "MLPClassifier?"
   ]
  },
  {
   "cell_type": "markdown",
   "id": "259b4a58",
   "metadata": {},
   "source": [
    "\n",
    "MLP has a good starting score. I want to find the best configuration for the hyperparameters to get the best accuracy.\n",
    "\n",
    "Next step could take some minuts."
   ]
  },
  {
   "cell_type": "code",
   "execution_count": 37,
   "id": "6ad5bc64",
   "metadata": {},
   "outputs": [
    {
     "name": "stderr",
     "output_type": "stream",
     "text": [
      "C:\\Users\\fbonn\\anaconda3\\lib\\site-packages\\sklearn\\neural_network\\_multilayer_perceptron.py:500: ConvergenceWarning: lbfgs failed to converge (status=1):\n",
      "STOP: TOTAL NO. of ITERATIONS REACHED LIMIT.\n",
      "\n",
      "Increase the number of iterations (max_iter) or scale the data as shown in:\n",
      "    https://scikit-learn.org/stable/modules/preprocessing.html\n",
      "  self.n_iter_ = _check_optimize_result(\"lbfgs\", opt_res, self.max_iter)\n"
     ]
    },
    {
     "data": {
      "image/png": "[encoded data removed]",
      "text/plain": [
       "<Figure size 1080x1080 with 4 Axes>"
      ]
     },
     "metadata": {
      "needs_background": "light"
     },
     "output_type": "display_data"
    }
   ],
   "source": [
    "figure(figsize=(15,15))\n",
    "\n",
    "i=0\n",
    "functions=('identity', 'logistic', 'tanh', 'relu')\n",
    "names=('lbfgs', 'sgd', 'adam')\n",
    "score=[]\n",
    "\n",
    "for function in functions:\n",
    "    scores=[]\n",
    "    i=i+1\n",
    "    for name in names: \n",
    "        plt.subplot(3,3,i)\n",
    "        clf= MLPClassifier( (4, 3, 2), max_iter=1000, activation= function, solver= name, learning_rate_init=0.01, learning_rate= 'invscaling')\n",
    "        clf.fit(X_train, y_train)\n",
    "        score.append( clf.score(X_test, y_test))\n",
    "        scores.append( clf.score(X_test, y_test) )\n",
    "    plt.plot( names, scores, label= function)\n",
    "    plt.title( function )\n",
    "    plt.legend(loc='best')"
   ]
  },
  {
   "cell_type": "code",
   "execution_count": 38,
   "id": "ab3da655",
   "metadata": {},
   "outputs": [],
   "source": [
    "score;"
   ]
  },
  {
   "cell_type": "code",
   "execution_count": 39,
   "id": "fc84b63e",
   "metadata": {},
   "outputs": [
    {
     "name": "stdout",
     "output_type": "stream",
     "text": [
      "Multilayer Perceptron, SUB-REDS  0.824\n"
     ]
    }
   ],
   "source": [
    "clf=MLPClassifier( (4, 3, 2), max_iter=1000, activation= 'tanh', solver= 'adam', learning_rate_init=0.01, learning_rate= 'invscaling')\n",
    "clf.fit( X_train, y_train )\n",
    "score= clf.score(X_test, y_test )\n",
    "print(\"Multilayer Perceptron, SUB-REDS \", score)"
   ]
  },
  {
   "cell_type": "code",
   "execution_count": 40,
   "id": "7a2eb099",
   "metadata": {},
   "outputs": [],
   "source": [
    "alphas=np.logspace(-1.5,-1,6)\n",
    "alphas;"
   ]
  },
  {
   "cell_type": "code",
   "execution_count": 41,
   "id": "c1d64c26",
   "metadata": {},
   "outputs": [
    {
     "name": "stdout",
     "output_type": "stream",
     "text": [
      "MAX SCORE IS  0.826\n"
     ]
    },
    {
     "data": {
      "image/png": "[encoded data removed]",
      "text/plain": [
       "<Figure size 432x288 with 1 Axes>"
      ]
     },
     "metadata": {
      "needs_background": "light"
     },
     "output_type": "display_data"
    }
   ],
   "source": [
    "from sklearn import model_selection\n",
    "from sklearn import metrics\n",
    "scores=[]\n",
    "training_scores=[]\n",
    "clf=MLPClassifier( (4, 3, 2), max_iter=1000, activation= 'tanh', solver= 'adam', learning_rate_init=0.01, learning_rate= 'invscaling')\n",
    "\n",
    "for alpha in alphas: \n",
    "    clf.alpha=alpha\n",
    "    clf.fit(X_train, y_train)\n",
    "    training_scores.append( clf.score(X_train, y_train))\n",
    "    s=model_selection.cross_val_score( clf, X_train, y_train, cv=10)\n",
    "    scores.append( s.mean())\n",
    "    \n",
    "plt.plot(alphas, scores, label= 'cross validation')\n",
    "plt.plot( alphas, training_scores, label='training score')\n",
    "plt.xscale('log')\n",
    "plt.legend(loc='best')\n",
    "print( 'MAX SCORE IS ' , max(scores))"
   ]
  },
  {
   "cell_type": "code",
   "execution_count": 42,
   "id": "7aa7476e",
   "metadata": {},
   "outputs": [
    {
     "data": {
      "text/plain": [
       "0.06309573444801933"
      ]
     },
     "execution_count": 42,
     "metadata": {},
     "output_type": "execute_result"
    }
   ],
   "source": [
    "best_alpha= alphas[argmax( scores)]\n",
    "best_alpha"
   ]
  },
  {
   "cell_type": "code",
   "execution_count": 43,
   "id": "1852adc0",
   "metadata": {},
   "outputs": [
    {
     "name": "stdout",
     "output_type": "stream",
     "text": [
      "MAX SCORE IS  0.826\n"
     ]
    }
   ],
   "source": [
    "print( 'MAX SCORE IS ' , max(scores))"
   ]
  },
  {
   "cell_type": "code",
   "execution_count": 44,
   "id": "2bf7975e",
   "metadata": {},
   "outputs": [
    {
     "name": "stdout",
     "output_type": "stream",
     "text": [
      "Multilayer Perceptron, SUB-REDS  0.846\n"
     ]
    }
   ],
   "source": [
    "clf=MLPClassifier( (4, 3, 2), max_iter=1000, activation= 'tanh', solver= 'adam', learning_rate_init=0.01, learning_rate= 'invscaling', alpha= best_alpha)\n",
    "clf.fit( X_train, y_train )\n",
    "score= clf.score( X_test, y_test)\n",
    "print(\"Multilayer Perceptron, SUB-REDS \", score)"
   ]
  },
  {
   "cell_type": "markdown",
   "id": "f0401745",
   "metadata": {},
   "source": [
    "**Testing the text** \n",
    "\n",
    "With the same method I will test the model with text data."
   ]
  },
  {
   "cell_type": "code",
   "execution_count": 45,
   "id": "ca4f9917",
   "metadata": {},
   "outputs": [],
   "source": [
    "alphas= np.logspace(-1, 0.5, 10)\n",
    "alphas;"
   ]
  },
  {
   "cell_type": "code",
   "execution_count": 46,
   "id": "7debfea7",
   "metadata": {},
   "outputs": [
    {
     "name": "stdout",
     "output_type": "stream",
     "text": [
      "MAX SCORE IS  0.8022222222222222\n"
     ]
    },
    {
     "data": {
      "image/png": "[encoded data removed]",
      "text/plain": [
       "<Figure size 432x288 with 1 Axes>"
      ]
     },
     "metadata": {
      "needs_background": "light"
     },
     "output_type": "display_data"
    }
   ],
   "source": [
    "from sklearn import model_selection\n",
    "from sklearn import metrics\n",
    "\n",
    "scores=[]\n",
    "training_scores=[]\n",
    "clf=MLPClassifier( (4, 3, 2), max_iter=1000, activation= 'tanh', solver= 'adam', learning_rate_init=0.01, learning_rate= 'invscaling')\n",
    "\n",
    "for alpha in alphas: \n",
    "    clf.alpha=alpha\n",
    "    clf.fit(author_text_train, y_train)\n",
    "    training_scores.append( clf.score(author_text_train, y_train))\n",
    "    s=model_selection.cross_val_score( clf, author_text_train, y_train, cv=10)\n",
    "    scores.append( s.mean())\n",
    "    \n",
    "plt.plot(alphas, scores, label= 'cross validation')\n",
    "plt.plot( alphas, training_scores, label='training score')\n",
    "plt.xscale('log')\n",
    "plt.legend(loc='best')\n",
    "print( 'MAX SCORE IS ' , max(scores))"
   ]
  },
  {
   "cell_type": "code",
   "execution_count": 47,
   "id": "120762a2",
   "metadata": {},
   "outputs": [
    {
     "data": {
      "text/plain": [
       "0.46415888336127786"
      ]
     },
     "execution_count": 47,
     "metadata": {},
     "output_type": "execute_result"
    }
   ],
   "source": [
    "best_alpha= alphas[argmax( scores)]\n",
    "best_alpha"
   ]
  },
  {
   "cell_type": "code",
   "execution_count": 48,
   "id": "e40aedfa",
   "metadata": {},
   "outputs": [
    {
     "name": "stdout",
     "output_type": "stream",
     "text": [
      "MAX SCORE IS  0.8022222222222222\n"
     ]
    }
   ],
   "source": [
    "print( 'MAX SCORE IS ' , max(scores))"
   ]
  },
  {
   "cell_type": "code",
   "execution_count": 49,
   "id": "5cec0c16",
   "metadata": {},
   "outputs": [
    {
     "name": "stdout",
     "output_type": "stream",
     "text": [
      "Multilayer Perceptron, SUB-REDS  0.786\n"
     ]
    }
   ],
   "source": [
    "clf=MLPClassifier( (4, 3, 2), max_iter=1000, activation= 'tanh', solver= 'adam', learning_rate_init=0.01, learning_rate= 'invscaling', alpha= best_alpha)\n",
    "clf.fit( author_text_train, y_train )\n",
    "score= clf.score( author_text_test, y_test)\n",
    "print(\"Multilayer Perceptron, SUB-REDS \", score)"
   ]
  },
  {
   "cell_type": "markdown",
   "id": "abe10b69",
   "metadata": {},
   "source": [
    "**testing text+sub-reddits**"
   ]
  },
  {
   "cell_type": "code",
   "execution_count": 50,
   "id": "ccf993a6",
   "metadata": {},
   "outputs": [],
   "source": [
    "alphas= np.logspace(-1, 0.5, 10)\n",
    "alphas;"
   ]
  },
  {
   "cell_type": "code",
   "execution_count": 51,
   "id": "14762ac9",
   "metadata": {},
   "outputs": [
    {
     "name": "stdout",
     "output_type": "stream",
     "text": [
      "MAX SCORE IS  0.8488888888888887\n"
     ]
    },
    {
     "data": {
      "image/png": "[encoded data removed]",
      "text/plain": [
       "<Figure size 432x288 with 1 Axes>"
      ]
     },
     "metadata": {
      "needs_background": "light"
     },
     "output_type": "display_data"
    }
   ],
   "source": [
    "from sklearn import model_selection\n",
    "from sklearn import metrics\n",
    "\n",
    "scores=[]\n",
    "training_scores=[]\n",
    "clf=MLPClassifier( (4, 3, 2), max_iter=1000, activation= 'tanh', solver= 'adam', learning_rate_init=0.01, learning_rate= 'invscaling')\n",
    "\n",
    "for alpha in alphas: \n",
    "    clf.alpha=alpha\n",
    "    clf.fit(X_train_FULL, y_train)\n",
    "    training_scores.append( clf.score(X_train_FULL, y_train))\n",
    "    s=model_selection.cross_val_score( clf, X_train_FULL, y_train, cv=10)\n",
    "    scores.append( s.mean())\n",
    "    \n",
    "plt.plot(alphas, scores, label= 'cross validation')\n",
    "plt.plot( alphas, training_scores, label='training score')\n",
    "plt.xscale('log')\n",
    "plt.legend(loc='best')\n",
    "print( 'MAX SCORE IS ' , max(scores))"
   ]
  },
  {
   "cell_type": "code",
   "execution_count": 52,
   "id": "5416701d",
   "metadata": {},
   "outputs": [
    {
     "data": {
      "text/plain": [
       "0.6812920690579611"
      ]
     },
     "execution_count": 52,
     "metadata": {},
     "output_type": "execute_result"
    }
   ],
   "source": [
    "best_alpha= alphas[argmax( scores)]\n",
    "best_alpha"
   ]
  },
  {
   "cell_type": "code",
   "execution_count": 53,
   "id": "ac73824e",
   "metadata": {},
   "outputs": [
    {
     "name": "stdout",
     "output_type": "stream",
     "text": [
      "MAX SCORE IS  0.8488888888888887\n"
     ]
    }
   ],
   "source": [
    "print( 'MAX SCORE IS ' , max(scores))"
   ]
  },
  {
   "cell_type": "code",
   "execution_count": 54,
   "id": "e4a36647",
   "metadata": {},
   "outputs": [
    {
     "name": "stdout",
     "output_type": "stream",
     "text": [
      "Multilayer Perceptron, SUB-REDS  0.848\n"
     ]
    }
   ],
   "source": [
    "clf=MLPClassifier( (4, 3, 2), max_iter=1000, activation= 'tanh', solver= 'adam', learning_rate_init=0.01, learning_rate= 'invscaling', alpha= best_alpha)\n",
    "clf.fit( X_train_FULL, y_train )\n",
    "score= clf.score( X_test_FULL, y_test)\n",
    "print(\"Multilayer Perceptron, SUB-REDS \", score)"
   ]
  },
  {
   "cell_type": "markdown",
   "id": "2f32fd3b",
   "metadata": {},
   "source": [
    "Multi Layer Perceptron has an high computational cost. The score we got is quite similar to the score by Multinomial NB.\n",
    "Fothermore there wasn't a great improvement to the score after putting together text and subreddits."
   ]
  },
  {
   "cell_type": "markdown",
   "id": "e4766c32",
   "metadata": {},
   "source": [
    "---------------------------------------------------\n",
    "## Model selection : Random Forest \n",
    "\n",
    "**testing the sub-reddits** . \n",
    "\n",
    "In this lines I'm trying Random Forest to train and test subreddits data."
   ]
  },
  {
   "cell_type": "code",
   "execution_count": 55,
   "id": "180f8ecf",
   "metadata": {},
   "outputs": [],
   "source": [
    "from sklearn.ensemble import RandomForestClassifier"
   ]
  },
  {
   "cell_type": "code",
   "execution_count": 4,
   "id": "24b9234d",
   "metadata": {},
   "outputs": [
    {
     "data": {
      "text/plain": [
       "array([100, 105, 110, 115, 120, 125, 130, 135, 140, 145, 150, 155, 160,\n",
       "       165, 170, 175, 180, 185, 190, 195, 200, 205, 210, 215, 220, 225,\n",
       "       230, 235, 240, 245, 250, 255, 260, 265, 270, 275, 280, 285, 290,\n",
       "       295])"
      ]
     },
     "execution_count": 4,
     "metadata": {},
     "output_type": "execute_result"
    }
   ],
   "source": [
    "trees=np.arange(100,300,5)"
   ]
  },
  {
   "cell_type": "code",
   "execution_count": 56,
   "id": "cf1ee2b8",
   "metadata": {},
   "outputs": [],
   "source": [
    "scores=[]\n",
    "\n",
    "for i in trees:\n",
    "    clf=  RandomForestClassifier(criterion='entropy', n_estimators=i )\n",
    "    clf.fit(X_train, y_train)\n",
    "    #print( 'n tree: ',i, 'accuracy ',clf.score( X_test, y_test))\n",
    "    scores.append( clf.score( X_test, y_test) )"
   ]
  },
  {
   "cell_type": "code",
   "execution_count": 57,
   "id": "dcc44414",
   "metadata": {},
   "outputs": [
    {
     "data": {
      "text/plain": [
       "<matplotlib.legend.Legend at 0x1bb5fc5f760>"
      ]
     },
     "execution_count": 57,
     "metadata": {},
     "output_type": "execute_result"
    },
    {
     "data": {
      "image/png": "[encoded data removed]",
      "text/plain": [
       "<Figure size 432x288 with 1 Axes>"
      ]
     },
     "metadata": {
      "needs_background": "light"
     },
     "output_type": "display_data"
    }
   ],
   "source": [
    "plt.plot( trees, scores , label=' accuracy ')\n",
    "plt.xlabel('number of trees')\n",
    "plt.ylabel( 'score ')\n",
    "plt.legend( loc='best')"
   ]
  },
  {
   "cell_type": "code",
   "execution_count": 58,
   "id": "5f545e10",
   "metadata": {},
   "outputs": [
    {
     "name": "stdout",
     "output_type": "stream",
     "text": [
      "the best number of trees is  155\n"
     ]
    }
   ],
   "source": [
    "print( 'the best number of trees is ', trees[ argmax( scores)])"
   ]
  },
  {
   "cell_type": "code",
   "execution_count": 59,
   "id": "bb8e3eca",
   "metadata": {},
   "outputs": [
    {
     "name": "stdout",
     "output_type": "stream",
     "text": [
      "Random Forest score is   0.818\n"
     ]
    }
   ],
   "source": [
    "clf=  RandomForestClassifier(criterion='entropy', n_estimators=trees[ argmax( scores)])\n",
    "clf.fit(X_train, y_train)\n",
    "print( 'Random Forest score is  ',clf.score( X_test, y_test))"
   ]
  },
  {
   "cell_type": "markdown",
   "id": "704dc732",
   "metadata": {},
   "source": [
    "Results are not promising and encouraging. So we skip to another model. "
   ]
  },
  {
   "cell_type": "markdown",
   "id": "8e50c93a",
   "metadata": {},
   "source": [
    "----------------------------------------------------------------------\n",
    "## Model selection : Logistic Regression\n",
    "\n",
    "Logistic Regression is the easiest model to study this dataset. I'm studying its behaviour with subreddits, text, and subreddits + text. \n",
    "\n",
    "**testing the sub-reddits**"
   ]
  },
  {
   "cell_type": "code",
   "execution_count": 60,
   "id": "a6f64fd3",
   "metadata": {},
   "outputs": [
    {
     "name": "stdout",
     "output_type": "stream",
     "text": [
      "Logistic Regression score is  0.876\n"
     ]
    }
   ],
   "source": [
    "from sklearn.linear_model import LogisticRegression\n",
    "clf=LogisticRegression()\n",
    "clf.fit(X_train, y_train)\n",
    "print( 'Logistic Regression score is ', clf.score( X_test, y_test))"
   ]
  },
  {
   "cell_type": "markdown",
   "id": "29d5fd16",
   "metadata": {},
   "source": [
    "**testing the text**"
   ]
  },
  {
   "cell_type": "code",
   "execution_count": 61,
   "id": "88b32282",
   "metadata": {},
   "outputs": [
    {
     "name": "stdout",
     "output_type": "stream",
     "text": [
      "Logistic Regression score is  0.792\n"
     ]
    }
   ],
   "source": [
    "clf=LogisticRegression()\n",
    "clf.fit(author_text_train, y_train)\n",
    "print( 'Logistic Regression score is ',clf.score( author_text_test, y_test))"
   ]
  },
  {
   "cell_type": "markdown",
   "id": "31977d07",
   "metadata": {},
   "source": [
    "**testing sub-reddits + text** "
   ]
  },
  {
   "cell_type": "code",
   "execution_count": 62,
   "id": "70bb4bc6",
   "metadata": {},
   "outputs": [
    {
     "name": "stdout",
     "output_type": "stream",
     "text": [
      "Logistic Regression score is  0.88\n"
     ]
    }
   ],
   "source": [
    "clf=LogisticRegression()\n",
    "clf.fit(X_train_FULL, y_train)\n",
    "print( 'Logistic Regression score is ', clf.score( X_test_FULL, y_test))"
   ]
  },
  {
   "cell_type": "code",
   "execution_count": 63,
   "id": "a76c0d4a",
   "metadata": {},
   "outputs": [],
   "source": [
    "LogisticRegression?"
   ]
  },
  {
   "cell_type": "markdown",
   "id": "a9d586fe",
   "metadata": {},
   "source": [
    "----------------------------------------------------\n",
    "## Final Model \n",
    "## Testing the Multinomial NB \n",
    "\n",
    "As final model I choose Nultinomial NB.\n",
    "\n",
    "If we compare **Multi-layer Perceptron** and **Multinomial NB**, the latter is better because the scores are not so different but the computational cost are so different. The Former has a higher computational cost and its causes a slower execution. That could be faster i.g. reducing the max number of total iterations but it will compromise its performance. \n",
    "\n",
    "If we compare **Logistic Regression** and **Multinomial NB** I choose the latter. These two models have similar results and scores on the training data. This is caused because MNB inherited by Logistic Regression. But, MNB is a **generative model** i.e. this model works modelling the posterior probability by the output of prior probability and Likelyhood.\n",
    "\n",
    "Logistic Regression is a discriminative model i.e. it reads only the training data and not the prior probability to get an class instead the other.\n",
    "\n",
    "\n",
    "--------------------------------------------"
   ]
  },
  {
   "cell_type": "markdown",
   "id": "9c9612a4",
   "metadata": {},
   "source": [
    "I'm going to test Multinomial NB with an higher statistics i.e. with the entire dataset. This is because MNB asks a great number of points.\n",
    "\n",
    "I'm applying term-frequency inverse doc-frequency to the author_text data. I'll study text+ subreddits. Then I'll use cross validation vs training score and I'll study the best alpha of the model.\n",
    "\n",
    "In the end, I'll use the best alpha to test the model to the dataset it has not never seen and lerned. "
   ]
  },
  {
   "cell_type": "code",
   "execution_count": 64,
   "id": "17f77fc4",
   "metadata": {},
   "outputs": [],
   "source": [
    "tfidfv = TfidfVectorizer(token_pattern=pattern, stop_words=ENGLISH_STOP_WORDS, ngram_range=(1,1), max_features=20000)\n",
    "X_text_train = tfidfv.fit_transform(author_text)"
   ]
  },
  {
   "cell_type": "code",
   "execution_count": 65,
   "id": "30df70fe",
   "metadata": {},
   "outputs": [],
   "source": [
    "X_train = sparse.hstack( ( X, X_text_train ))"
   ]
  },
  {
   "cell_type": "code",
   "execution_count": 66,
   "id": "7743ff50",
   "metadata": {},
   "outputs": [],
   "source": [
    "from sklearn.naive_bayes import MultinomialNB\n",
    "clf = MultinomialNB(class_prior=[0.7,0.3])"
   ]
  },
  {
   "cell_type": "code",
   "execution_count": 67,
   "id": "0823c614",
   "metadata": {},
   "outputs": [],
   "source": [
    "alphas = np.logspace(-2, 2, 150)\n",
    "alphas;"
   ]
  },
  {
   "cell_type": "code",
   "execution_count": 68,
   "id": "afc35b8b",
   "metadata": {},
   "outputs": [],
   "source": [
    "from sklearn import model_selection\n",
    "from sklearn import metrics\n",
    "\n",
    "scores=[]\n",
    "training_score=[]\n",
    "for alpha in alphas:\n",
    "    clf.alpha = alpha\n",
    "    clf.fit( X_train, y)\n",
    "    training_score.append( clf.score( X_train, y ))\n",
    "    s = model_selection.cross_val_score(clf, X_train, \n",
    "                                        y, cv=10)\n",
    "    scores.append(s.mean())   "
   ]
  },
  {
   "cell_type": "code",
   "execution_count": 69,
   "id": "983e1c35",
   "metadata": {},
   "outputs": [
    {
     "data": {
      "text/plain": [
       "<matplotlib.legend.Legend at 0x1bb5ff8b100>"
      ]
     },
     "execution_count": 69,
     "metadata": {},
     "output_type": "execute_result"
    },
    {
     "data": {
      "image/png": "[encoded data removed]",
      "text/plain": [
       "<Figure size 432x288 with 1 Axes>"
      ]
     },
     "metadata": {
      "needs_background": "light"
     },
     "output_type": "display_data"
    }
   ],
   "source": [
    "plt.plot( alphas, training_score, label='training score ')\n",
    "plt.plot( alphas, scores, label= 'cross validation score ')\n",
    "plt.xlabel('alphas')\n",
    "plt.ylabel('accuracy')\n",
    "plt.xscale('log')\n",
    "plt.legend(loc='best')"
   ]
  },
  {
   "cell_type": "code",
   "execution_count": 70,
   "id": "8a884b65",
   "metadata": {},
   "outputs": [
    {
     "data": {
      "text/plain": [
       "0.6290102436234459"
      ]
     },
     "execution_count": 70,
     "metadata": {},
     "output_type": "execute_result"
    }
   ],
   "source": [
    "best_alpha= alphas[argmax( scores)]\n",
    "best_alpha"
   ]
  },
  {
   "cell_type": "code",
   "execution_count": 71,
   "id": "94bc76bf",
   "metadata": {},
   "outputs": [
    {
     "name": "stdout",
     "output_type": "stream",
     "text": [
      "MAX SCORE IS  0.8686000000000001\n"
     ]
    }
   ],
   "source": [
    "print( 'MAX SCORE IS ' , max(scores))"
   ]
  },
  {
   "cell_type": "code",
   "execution_count": 72,
   "id": "af2a93db",
   "metadata": {},
   "outputs": [
    {
     "name": "stdout",
     "output_type": "stream",
     "text": [
      "SCORE SUB-REDS 0.9196\n"
     ]
    }
   ],
   "source": [
    "clf= MultinomialNB( alpha=best_alpha, class_prior=[0.7,0.3])\n",
    "clf.fit( X_train, y)\n",
    "score= clf.score( X_train, y)\n",
    "print('SCORE SUB-REDS', score)"
   ]
  },
  {
   "cell_type": "markdown",
   "id": "c3879e2b",
   "metadata": {},
   "source": [
    "Acting in this way we test only with training data and not with testing data. **Out-of-sample-Error** could be valued with the graph above with the cross validation score line."
   ]
  },
  {
   "cell_type": "markdown",
   "id": "c74bda71",
   "metadata": {
    "_uuid": "50350b2033979099ec9e5dadd72a05f0b47f2744",
    "papermill": {
     "duration": 0.023511,
     "end_time": "2022-06-17T09:24:15.045327",
     "exception": false,
     "start_time": "2022-06-17T09:24:15.021816",
     "status": "completed"
    },
    "tags": []
   },
   "source": [
    "# Prepare the solution"
   ]
  },
  {
   "cell_type": "code",
   "execution_count": 73,
   "id": "72accba4",
   "metadata": {
    "_uuid": "39592879b9f88a56c88ea0f759bdc4f77b4133e3",
    "execution": {
     "iopub.execute_input": "2022-06-17T09:24:15.096357Z",
     "iopub.status.busy": "2022-06-17T09:24:15.095662Z",
     "iopub.status.idle": "2022-06-17T09:24:20.322280Z",
     "shell.execute_reply": "2022-06-17T09:24:20.322734Z",
     "shell.execute_reply.started": "2022-06-17T09:14:36.906271Z"
    },
    "papermill": {
     "duration": 5.254151,
     "end_time": "2022-06-17T09:24:20.322932",
     "exception": false,
     "start_time": "2022-06-17T09:24:15.068781",
     "status": "completed"
    },
    "tags": []
   },
   "outputs": [],
   "source": [
    "test_data = pd.read_csv(\"test_data.csv\", encoding=\"utf8\")"
   ]
  },
  {
   "cell_type": "code",
   "execution_count": 74,
   "id": "c1560ac6",
   "metadata": {
    "_uuid": "b8e6223088aedf8f4b827b6f7d555d2c22ced142",
    "execution": {
     "iopub.execute_input": "2022-06-17T09:24:20.380352Z",
     "iopub.status.busy": "2022-06-17T09:24:20.379502Z",
     "iopub.status.idle": "2022-06-17T09:24:57.206417Z",
     "shell.execute_reply": "2022-06-17T09:24:57.205825Z",
     "shell.execute_reply.started": "2022-06-17T09:14:44.432483Z"
    },
    "papermill": {
     "duration": 36.85958,
     "end_time": "2022-06-17T09:24:57.206561",
     "exception": false,
     "start_time": "2022-06-17T09:24:20.346981",
     "status": "completed"
    },
    "tags": []
   },
   "outputs": [],
   "source": [
    "features_dict = {}\n",
    "\n",
    "for author, group in test_data.groupby('author'):\n",
    "    features_dict[author] = extract_features(group)"
   ]
  },
  {
   "cell_type": "code",
   "execution_count": 75,
   "id": "d97433c8",
   "metadata": {
    "_uuid": "74839ff4a639f7e3aac6596e1864332f5ac24d88",
    "execution": {
     "iopub.execute_input": "2022-06-17T09:24:57.276780Z",
     "iopub.status.busy": "2022-06-17T09:24:57.276156Z",
     "iopub.status.idle": "2022-06-17T09:24:57.581979Z",
     "shell.execute_reply": "2022-06-17T09:24:57.581508Z",
     "shell.execute_reply.started": "2022-06-17T09:16:04.735030Z"
    },
    "papermill": {
     "duration": 0.351735,
     "end_time": "2022-06-17T09:24:57.582121",
     "exception": false,
     "start_time": "2022-06-17T09:24:57.230386",
     "status": "completed"
    },
    "tags": []
   },
   "outputs": [
    {
     "data": {
      "text/plain": [
       "<15000x3468 sparse matrix of type '<class 'numpy.float64'>'\n",
       "\twith 144898 stored elements in Compressed Sparse Row format>"
      ]
     },
     "execution_count": 75,
     "metadata": {},
     "output_type": "execute_result"
    }
   ],
   "source": [
    "X_test = sparse.vstack([features_dict[author] for author in test_data.author.unique()])\n",
    "X_test"
   ]
  },
  {
   "cell_type": "code",
   "execution_count": 76,
   "id": "427a7657",
   "metadata": {
    "execution": {
     "iopub.execute_input": "2022-06-17T09:24:57.651626Z",
     "iopub.status.busy": "2022-06-17T09:24:57.651047Z",
     "iopub.status.idle": "2022-06-17T09:25:00.836107Z",
     "shell.execute_reply": "2022-06-17T09:25:00.836550Z",
     "shell.execute_reply.started": "2022-06-17T09:16:49.312232Z"
    },
    "papermill": {
     "duration": 3.230988,
     "end_time": "2022-06-17T09:25:00.836737",
     "exception": false,
     "start_time": "2022-06-17T09:24:57.605749",
     "status": "completed"
    },
    "tags": []
   },
   "outputs": [],
   "source": [
    "text_dict = {}\n",
    "\n",
    "for author, group in test_data.groupby('author'):\n",
    "    text_dict[author] = extract_text(group)"
   ]
  },
  {
   "cell_type": "code",
   "execution_count": 77,
   "id": "019a8777",
   "metadata": {
    "execution": {
     "iopub.execute_input": "2022-06-17T09:25:00.929804Z",
     "iopub.status.busy": "2022-06-17T09:25:00.929147Z",
     "iopub.status.idle": "2022-06-17T09:25:00.994312Z",
     "shell.execute_reply": "2022-06-17T09:25:00.993817Z",
     "shell.execute_reply.started": "2022-06-17T09:23:09.382527Z"
    },
    "papermill": {
     "duration": 0.133569,
     "end_time": "2022-06-17T09:25:00.994453",
     "exception": false,
     "start_time": "2022-06-17T09:25:00.860884",
     "status": "completed"
    },
    "tags": []
   },
   "outputs": [],
   "source": [
    "author_text_test = [text_dict[author] for author in test_data.author.unique()]"
   ]
  },
  {
   "cell_type": "code",
   "execution_count": 78,
   "id": "af71022d",
   "metadata": {
    "execution": {
     "iopub.execute_input": "2022-06-17T09:25:01.049442Z",
     "iopub.status.busy": "2022-06-17T09:25:01.048872Z",
     "iopub.status.idle": "2022-06-17T09:25:01.052657Z",
     "shell.execute_reply": "2022-06-17T09:25:01.053073Z",
     "shell.execute_reply.started": "2022-06-17T09:23:13.513296Z"
    },
    "papermill": {
     "duration": 0.034578,
     "end_time": "2022-06-17T09:25:01.053234",
     "exception": false,
     "start_time": "2022-06-17T09:25:01.018656",
     "status": "completed"
    },
    "tags": []
   },
   "outputs": [
    {
     "data": {
      "text/plain": [
       "\"I hadn't ever heard of them before joining this subreddit. They're not really a big thing in the US,\""
      ]
     },
     "execution_count": 78,
     "metadata": {},
     "output_type": "execute_result"
    }
   ],
   "source": [
    "author_text_test[0][:100]"
   ]
  },
  {
   "cell_type": "code",
   "execution_count": 79,
   "id": "3af4c306",
   "metadata": {},
   "outputs": [],
   "source": [
    "author_text_test= tfidfv.transform(author_text_test)"
   ]
  },
  {
   "cell_type": "code",
   "execution_count": 80,
   "id": "f95e4929",
   "metadata": {},
   "outputs": [],
   "source": [
    "X_TEST= sparse.hstack( ( X_test, author_text_test ))"
   ]
  },
  {
   "cell_type": "code",
   "execution_count": 81,
   "id": "b1fe7238",
   "metadata": {
    "_uuid": "ce88990de3a60deedba91ce9f0d69211a09222e5",
    "execution": {
     "iopub.execute_input": "2022-06-17T09:25:01.106227Z",
     "iopub.status.busy": "2022-06-17T09:25:01.105276Z",
     "iopub.status.idle": "2022-06-17T09:25:01.107878Z",
     "shell.execute_reply": "2022-06-17T09:25:01.107389Z",
     "shell.execute_reply.started": "2022-06-17T09:23:29.846724Z"
    },
    "papermill": {
     "duration": 0.03062,
     "end_time": "2022-06-17T09:25:01.108011",
     "exception": false,
     "start_time": "2022-06-17T09:25:01.077391",
     "status": "completed"
    },
    "tags": []
   },
   "outputs": [],
   "source": [
    "y_pred = clf.predict_proba(X_TEST)[:,1]"
   ]
  },
  {
   "cell_type": "code",
   "execution_count": 82,
   "id": "52419c5d",
   "metadata": {
    "_uuid": "3d54c4654aae233bb9aac99a03fb5cd9dfee5915",
    "execution": {
     "iopub.execute_input": "2022-06-17T09:25:01.201432Z",
     "iopub.status.busy": "2022-06-17T09:25:01.200804Z",
     "iopub.status.idle": "2022-06-17T09:25:01.254376Z",
     "shell.execute_reply": "2022-06-17T09:25:01.253937Z"
    },
    "papermill": {
     "duration": 0.121903,
     "end_time": "2022-06-17T09:25:01.254508",
     "exception": false,
     "start_time": "2022-06-17T09:25:01.132605",
     "status": "completed"
    },
    "tags": []
   },
   "outputs": [
    {
     "data": {
      "text/html": [
       "<div>\n",
       "<style scoped>\n",
       "    .dataframe tbody tr th:only-of-type {\n",
       "        vertical-align: middle;\n",
       "    }\n",
       "\n",
       "    .dataframe tbody tr th {\n",
       "        vertical-align: top;\n",
       "    }\n",
       "\n",
       "    .dataframe thead th {\n",
       "        text-align: right;\n",
       "    }\n",
       "</style>\n",
       "<table border=\"1\" class=\"dataframe\">\n",
       "  <thead>\n",
       "    <tr style=\"text-align: right;\">\n",
       "      <th></th>\n",
       "      <th>author</th>\n",
       "      <th>gender</th>\n",
       "    </tr>\n",
       "  </thead>\n",
       "  <tbody>\n",
       "    <tr>\n",
       "      <th>0</th>\n",
       "      <td>ejchristian86</td>\n",
       "      <td>1.000000e+00</td>\n",
       "    </tr>\n",
       "    <tr>\n",
       "      <th>1</th>\n",
       "      <td>ZenDragon</td>\n",
       "      <td>1.195906e-12</td>\n",
       "    </tr>\n",
       "    <tr>\n",
       "      <th>2</th>\n",
       "      <td>savoytruffle</td>\n",
       "      <td>3.497827e-05</td>\n",
       "    </tr>\n",
       "    <tr>\n",
       "      <th>3</th>\n",
       "      <td>hentercenter</td>\n",
       "      <td>1.876872e-04</td>\n",
       "    </tr>\n",
       "    <tr>\n",
       "      <th>4</th>\n",
       "      <td>rick-o-suave</td>\n",
       "      <td>7.195420e-02</td>\n",
       "    </tr>\n",
       "  </tbody>\n",
       "</table>\n",
       "</div>"
      ],
      "text/plain": [
       "          author        gender\n",
       "0  ejchristian86  1.000000e+00\n",
       "1      ZenDragon  1.195906e-12\n",
       "2   savoytruffle  3.497827e-05\n",
       "3   hentercenter  1.876872e-04\n",
       "4   rick-o-suave  7.195420e-02"
      ]
     },
     "execution_count": 82,
     "metadata": {},
     "output_type": "execute_result"
    }
   ],
   "source": [
    "solution = pd.DataFrame({\"author\":test_data.author.unique(), \"gender\":y_pred})\n",
    "solution.head()"
   ]
  },
  {
   "cell_type": "code",
   "execution_count": 83,
   "id": "bc81a9d9",
   "metadata": {
    "_uuid": "a87ec4dad5a88d40a5562e983fd813cb956eb171",
    "execution": {
     "iopub.execute_input": "2022-06-17T09:25:01.308186Z",
     "iopub.status.busy": "2022-06-17T09:25:01.307290Z",
     "iopub.status.idle": "2022-06-17T09:25:01.333115Z",
     "shell.execute_reply": "2022-06-17T09:25:01.332529Z"
    },
    "papermill": {
     "duration": 0.054109,
     "end_time": "2022-06-17T09:25:01.333248",
     "exception": false,
     "start_time": "2022-06-17T09:25:01.279139",
     "status": "completed"
    },
    "tags": []
   },
   "outputs": [],
   "source": [
    "solution.to_csv(\"Mysolution.csv\", index=False)"
   ]
  },
  {
   "cell_type": "markdown",
   "id": "2a6c405f",
   "metadata": {
    "_uuid": "b1068a5b6920198541f469dc5b26e95b99d07252",
    "papermill": {
     "duration": 0.024105,
     "end_time": "2022-06-17T09:25:01.382191",
     "exception": false,
     "start_time": "2022-06-17T09:25:01.358086",
     "status": "completed"
    },
    "tags": []
   },
   "source": [
    "## Conclusion\n",
    "\n",
    "\n",
    "This notebook was written for the exam \"Data Mining, Statistical Modeling and Machine Learning\" in Physics of Complex System in University of Turin in September 2022.\n",
    "\n",
    "This notebook represented half part of the exam. To pass it you must prepare this notebook and sign in a internal competition in Kaggle. After the registration to the competition, you load the .csv to the exam's page and valued your results with the \"correct\" results provided by professors.\n",
    "\n",
    "The **Roc accuracy** of my results was **0.91804**.\n",
    "\n",
    "I'm so satisfied about this result and the result of my exam. It was so good and I received so many congratulations from my professors. I found this task very interesting, and it made me curious about this field. I'm so glad to have chosen this exam on my CV.\n",
    "\n",
    "Thanks for the attention.\n",
    "\n",
    "Federico Bonaldo\n"
   ]
  },
  {
   "cell_type": "code",
   "execution_count": null,
   "id": "d81695fc",
   "metadata": {},
   "outputs": [],
   "source": []
  }
 ],
 "metadata": {
  "kernelspec": {
   "display_name": "Python 3 (ipykernel)",
   "language": "python",
   "name": "python3"
  },
  "language_info": {
   "codemirror_mode": {
    "name": "ipython",
    "version": 3
   },
   "file_extension": ".py",
   "mimetype": "text/x-python",
   "name": "python",
   "nbconvert_exporter": "python",
   "pygments_lexer": "ipython3",
   "version": "3.9.7"
  },
  "papermill": {
   "default_parameters": {},
   "duration": 70.365954,
   "end_time": "2022-06-17T09:25:02.116884",
   "environment_variables": {},
   "exception": null,
   "input_path": "__notebook__.ipynb",
   "output_path": "__notebook__.ipynb",
   "parameters": {},
   "start_time": "2022-06-17T09:23:51.750930",
   "version": "2.3.3"
  }
 },
 "nbformat": 4,
 "nbformat_minor": 5
}
